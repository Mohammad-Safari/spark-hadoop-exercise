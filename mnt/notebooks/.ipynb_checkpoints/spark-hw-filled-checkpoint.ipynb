{
 "cells": [
  {
   "cell_type": "markdown",
   "id": "4a40a3b9",
   "metadata": {},
   "source": [
    "<div align=\"right\" dir=\"auto\">\n",
    "   \n",
    "#  دیتاست اول(COVID)\n",
    " </div>\n",
    "  "
   ]
  },
  {
   "cell_type": "markdown",
   "id": "a85ec836",
   "metadata": {},
   "source": [
    "\n",
    "<div align=\"right\" dir=\"auto\">\n",
    "   \n",
    "##  اتصال به کلاستر اسپارک و هدوپ \n",
    "\n",
    "    در این قسمت از تمرین باید به عنوان درایور یک سسشن  به کلاستر اسپارک بسازیم.\n",
    " </div>\n",
    "  \n",
    "* **appName**: application name displayed at the Spark Master Web UI;\n",
    "* **master**: Spark Master URL, same used by Spark Workers;\n",
    "* **spark.executor.memory**: must be less than or equals to docker compose SPARK_WORKER_MEMORY config."
   ]
  },
  {
   "cell_type": "code",
   "execution_count": 1,
   "id": "3f75a33d",
   "metadata": {},
   "outputs": [],
   "source": [
    "import pyspark\n",
    "from pyspark.sql import SparkSession\n",
    "\n",
    "import os\n",
    "import pandas\n",
    "from pyspark.sql.types import *"
   ]
  },
  {
   "cell_type": "code",
   "execution_count": 2,
   "id": "49a67e61",
   "metadata": {},
   "outputs": [
    {
     "name": "stderr",
     "output_type": "stream",
     "text": [
      "2024-01-03 19:58:35,512 WARN util.NativeCodeLoader: Unable to load native-hadoop library for your platform... using builtin-java classes where applicable\n",
      "Setting default log level to \"WARN\".\n",
      "To adjust logging level use sc.setLogLevel(newLevel). For SparkR, use setLogLevel(newLevel).\n"
     ]
    },
    {
     "data": {
      "text/html": [
       "\n",
       "            <div>\n",
       "                <p><b>SparkSession - in-memory</b></p>\n",
       "                \n",
       "        <div>\n",
       "            <p><b>SparkContext</b></p>\n",
       "\n",
       "            <p><a href=\"http://8c61e6e608aa:4040\">Spark UI</a></p>\n",
       "\n",
       "            <dl>\n",
       "              <dt>Version</dt>\n",
       "                <dd><code>v3.1.1</code></dd>\n",
       "              <dt>Master</dt>\n",
       "                <dd><code>spark://spark-master:7077</code></dd>\n",
       "              <dt>AppName</dt>\n",
       "                <dd><code>spark-notebook-1</code></dd>\n",
       "            </dl>\n",
       "        </div>\n",
       "        \n",
       "            </div>\n",
       "        "
      ],
      "text/plain": [
       "<pyspark.sql.session.SparkSession at 0x7f3f66fb3820>"
      ]
     },
     "execution_count": 2,
     "metadata": {},
     "output_type": "execute_result"
    }
   ],
   "source": [
    "spark = SparkSession.builder.appName('spark-notebook-1').master('spark://spark-master:7077').config('spark.executor.memmory', '2G').getOrCreate()\n",
    "spark"
   ]
  },
  {
   "cell_type": "markdown",
   "id": "26d33f17",
   "metadata": {},
   "source": [
    "\n",
    "<div align=\"right\" dir=\"auto\">\n",
    "   \n",
    "#  خواندن داده \n",
    "\n",
    "    :در اسپارک ما ساختارهای مختلفی برای کار با داده و پخش شدن آن‌ها در شبکه داریم که به ۳ دسته تقسیم بندی میشوند \n",
    "+ RDD\n",
    "+ Dataset\n",
    "+ DataFrame\n",
    "    \n",
    "    \n",
    "     برای مطالعه بیشتر به لینک زیر مراجعه کنید:\n",
    "[rdd-vs-dataframe-vs-dataset](https://phoenixnap.com/kb/rdd-vs-dataframe-vs-dataset)\n",
    "\n",
    "    ما در درس با ساختار RDD آشنا شدیم حال در این تمرین میخواهیم با ساختار Dataframe آشنا شویم و به کمک آن دیتا را از روی HDFS بخوانیم و روی آن فایل‌ها پردازش انجام دهیم\n",
    " \n",
    " </div>\n",
    "  \n",
    "    "
   ]
  },
  {
   "cell_type": "code",
   "execution_count": 3,
   "id": "fe043be9",
   "metadata": {},
   "outputs": [
    {
     "name": "stdout",
     "output_type": "stream",
     "text": [
      "Loading data from csv ./data/covid.csv\n",
      "Loading data from csv ./data/.ipynb_checkpoints/covid-checkpoint.csv\n"
     ]
    }
   ],
   "source": [
    "# The data from covid.csv will be loaded from a local file path\n",
    "for path, subdirs, files in os.walk('./data/'):\n",
    "    for name in files:\n",
    "        if \"covid\" in name:\n",
    "            csvName = name\n",
    "            csvPath = os.path.join(path, name)\n",
    "            print(\"Loading data from csv {}\".format(csvPath))\n",
    "            covidDfPandas = pandas.read_csv(csvPath)"
   ]
  },
  {
   "cell_type": "code",
   "execution_count": 4,
   "id": "439518d5",
   "metadata": {},
   "outputs": [],
   "source": [
    "# Structure of data in the DataFrame\n",
    "schema = StructType([\n",
    "    StructField(\"dateRep\", StringType(), True),\n",
    "    StructField(\"day\", IntegerType(), True),\n",
    "    StructField(\"month\", IntegerType(), True),\n",
    "    StructField(\"year\", IntegerType(), True),\n",
    "    StructField(\"cases\", IntegerType(), True),\n",
    "    StructField(\"deaths\", IntegerType(), True),\n",
    "    StructField(\"countriesAndTerritories\", StringType(), True),\n",
    "    StructField(\"geoId\", StringType(), True),\n",
    "    StructField(\"countryterritoryCode\", StringType(), True),\n",
    "    StructField(\"popData2019\", FloatType(), True),\n",
    "    StructField(\"continentExp\", StringType(), True),\n",
    "    StructField(\"Cumulative_number_for_14_days_of_COVID-19_cases_per_100000\", DoubleType(), True),\n",
    "])"
   ]
  },
  {
   "cell_type": "markdown",
   "id": "ddf59ee1",
   "metadata": {},
   "source": [
    "\n",
    "<div align=\"right\" dir=\"auto\">\n",
    "یک DataFrame از Pandas را به یک DataFrame از Spark تبدیل کنید و سپس طرح ساختاری و برخی از داده‌ها را نمایش دهید.\n",
    " </div>\n",
    "  \n",
    "    \n",
    "\n",
    "\n"
   ]
  },
  {
   "cell_type": "code",
   "execution_count": 5,
   "id": "10c0aafd",
   "metadata": {},
   "outputs": [
    {
     "name": "stdout",
     "output_type": "stream",
     "text": [
      "root\n",
      " |-- dateRep: string (nullable = true)\n",
      " |-- day: integer (nullable = true)\n",
      " |-- month: integer (nullable = true)\n",
      " |-- year: integer (nullable = true)\n",
      " |-- cases: integer (nullable = true)\n",
      " |-- deaths: integer (nullable = true)\n",
      " |-- countriesAndTerritories: string (nullable = true)\n",
      " |-- geoId: string (nullable = true)\n",
      " |-- countryterritoryCode: string (nullable = true)\n",
      " |-- popData2019: float (nullable = true)\n",
      " |-- continentExp: string (nullable = true)\n",
      " |-- Cumulative_number_for_14_days_of_COVID-19_cases_per_100000: double (nullable = true)\n",
      "\n"
     ]
    }
   ],
   "source": [
    "# Convert Pandas DataFrame to Spark DataFrame with defined schema\n",
    "covidDfSpark = spark.createDataFrame(covidDfPandas.values.tolist(), schema=schema)\n",
    "\n",
    "# Show the DataFrame schema and some data\n",
    "covidDfSpark.printSchema()"
   ]
  },
  {
   "cell_type": "markdown",
   "id": "74092168",
   "metadata": {},
   "source": [
    "\n",
    "<div align=\"right\" dir=\"auto\">\n",
    "   \n",
    "#  اسپارک SQL \n",
    "\n",
    "    مهمترین قابلیت اسپارک این است که می‌تواند با خواندن فایل‌ها به صورت توزیع شده روی آن‌ها پردازش انجام دهد و این پردازش را برنامه ‌نویس میتواند با استفاده از دستورات SQL اعمال کند\n",
    "    در این بخش از شما انتظار می‌رود که به وسیله spark SQL  به اسپارک کوئری  بزنید . \n",
    "    \n",
    "    \n",
    " </div>\n",
    "\n",
    "[pyspark.sql.functions.col](https://spark.apache.org/docs/latest/api/python/reference/pyspark.sql/api/pyspark.sql.functions.col.html)\n",
    "\n",
    "[pyspark.sql.DataFrame.count](https://spark.apache.org/docs/latest/api/python/reference/pyspark.sql/api/pyspark.sql.DataFrame.count.html)\n",
    "\n",
    "[pyspark.sql.DataFrame.filter](https://spark.apache.org/docs/latest/api/python/reference/pyspark.sql/api/pyspark.sql.DataFrame.filter.html)\n",
    "\n",
    "[pyspark.sql.DataFrame.groupBy](https://spark.apache.org/docs/3.1.1/api/python/reference/api/pyspark.sql.DataFrame.groupBy.html)"
   ]
  },
  {
   "cell_type": "markdown",
   "id": "559d68ad",
   "metadata": {},
   "source": [
    "<div align=\"right\" dir=\"auto\">\n",
    "برای اینکه بتوانیم روی دیتای لود شده به وسیله تابع  spark.sql\n",
    "    کوئری‌های SQL بزنیم\n",
    "    باید دو دیتاست لود شده را به عنوان table\n",
    "    به spark \n",
    "    معرفی کنیم\n",
    "</div>"
   ]
  },
  {
   "cell_type": "code",
   "execution_count": 6,
   "id": "1789c984",
   "metadata": {},
   "outputs": [],
   "source": [
    "covidDfSpark.registerTempTable(\"covid\")"
   ]
  },
  {
   "cell_type": "markdown",
   "id": "53f180d3",
   "metadata": {},
   "source": [
    "<div align=\"right\" dir=\"auto\">\n",
    " ده رکورد آخر را نمایش دهید\n",
    "</div>"
   ]
  },
  {
   "cell_type": "code",
   "execution_count": 7,
   "id": "9d60802d",
   "metadata": {},
   "outputs": [
    {
     "name": "stderr",
     "output_type": "stream",
     "text": [
      "2024-01-03 19:58:40,922 WARN scheduler.TaskSetManager: Stage 0 contains a task of very large size (1650 KiB). The maximum recommended task size is 1000 KiB.\n",
      "                                                                                \r"
     ]
    },
    {
     "name": "stdout",
     "output_type": "stream",
     "text": [
      "+----------+---+-----+----+-----+------+-----------------------+-----+--------------------+------------+------------+----------------------------------------------------------+\n",
      "|   dateRep|day|month|year|cases|deaths|countriesAndTerritories|geoId|countryterritoryCode| popData2019|continentExp|Cumulative_number_for_14_days_of_COVID-19_cases_per_100000|\n",
      "+----------+---+-----+----+-----+------+-----------------------+-----+--------------------+------------+------------+----------------------------------------------------------+\n",
      "|31/12/2019| 31|   12|2019|    0|     0|             Luxembourg|   LU|                 LUX|    613894.0|      Europe|                                                       NaN|\n",
      "|31/12/2019| 31|   12|2019|    0|     0|                 Norway|   NO|                 NOR|   5328212.0|      Europe|                                                       NaN|\n",
      "|31/12/2019| 31|   12|2019|    0|     0|               Malaysia|   MY|                 MYS| 3.1949788E7|        Asia|                                                       NaN|\n",
      "|31/12/2019| 31|   12|2019|    0|     0|                Lebanon|   LB|                 LBN|   6855709.0|        Asia|                                                       NaN|\n",
      "|31/12/2019| 31|   12|2019|    0|     0|                 Mexico|   MX|                 MEX|1.27575528E8|     America|                                                       NaN|\n",
      "|31/12/2019| 31|   12|2019|    0|     0|            Netherlands|   NL|                 NLD| 1.7282164E7|      Europe|                                                       NaN|\n",
      "|31/12/2019| 31|   12|2019|    0|     0|        North_Macedonia|   MK|                 MKD|   2077132.0|      Europe|                                                       NaN|\n",
      "|31/12/2019| 31|   12|2019|    0|     0|            New_Zealand|   NZ|                 NZL|   4783062.0|     Oceania|                                                       NaN|\n",
      "|31/12/2019| 31|   12|2019|    0|     0|              Lithuania|   LT|                 LTU|   2794184.0|      Europe|                                                       NaN|\n",
      "|31/12/2019| 31|   12|2019|    0|     0|                Nigeria|   NG|                 NGA|  2.009636E8|      Africa|                                                       NaN|\n",
      "+----------+---+-----+----+-----+------+-----------------------+-----+--------------------+------------+------------+----------------------------------------------------------+\n",
      "\n"
     ]
    }
   ],
   "source": [
    "# to-do\n",
    "# covidDfSpark.orderBy(covidDfSpark['dateRep'].desc()).limit(10).show()\n",
    "query = \"\"\"\n",
    "    SELECT *\n",
    "    FROM covid\n",
    "    ORDER BY dateRep DESC\n",
    "    LIMIT 10\n",
    "\"\"\"\n",
    "spark.sql(query).show()"
   ]
  },
  {
   "cell_type": "markdown",
   "id": "d1636c11",
   "metadata": {},
   "source": [
    "<div align=\"right\" dir=\"auto\">\n",
    "اسکیما یا ساختار دیتاست ها را نمایش دهید\n",
    "\n",
    "</div>"
   ]
  },
  {
   "cell_type": "code",
   "execution_count": 8,
   "id": "be8d805c",
   "metadata": {},
   "outputs": [
    {
     "name": "stdout",
     "output_type": "stream",
     "text": [
      "+--------------------+---------+-------+\n",
      "|            col_name|data_type|comment|\n",
      "+--------------------+---------+-------+\n",
      "|             dateRep|   string|   null|\n",
      "|                 day|      int|   null|\n",
      "|               month|      int|   null|\n",
      "|                year|      int|   null|\n",
      "|               cases|      int|   null|\n",
      "|              deaths|      int|   null|\n",
      "|countriesAndTerri...|   string|   null|\n",
      "|               geoId|   string|   null|\n",
      "|countryterritoryCode|   string|   null|\n",
      "|         popData2019|    float|   null|\n",
      "|        continentExp|   string|   null|\n",
      "|Cumulative_number...|   double|   null|\n",
      "+--------------------+---------+-------+\n",
      "\n"
     ]
    }
   ],
   "source": [
    "# to-do\n",
    "query = \"\"\"\n",
    "    DESCRIBE table covid\n",
    "\"\"\"\n",
    "spark.sql(query).show()"
   ]
  },
  {
   "cell_type": "code",
   "execution_count": 9,
   "id": "fd8cb06c",
   "metadata": {},
   "outputs": [
    {
     "name": "stdout",
     "output_type": "stream",
     "text": [
      "root\n",
      " |-- dateRep: string (nullable = true)\n",
      " |-- day: integer (nullable = true)\n",
      " |-- month: integer (nullable = true)\n",
      " |-- year: integer (nullable = true)\n",
      " |-- cases: integer (nullable = true)\n",
      " |-- deaths: integer (nullable = true)\n",
      " |-- countriesAndTerritories: string (nullable = true)\n",
      " |-- geoId: string (nullable = true)\n",
      " |-- countryterritoryCode: string (nullable = true)\n",
      " |-- popData2019: float (nullable = true)\n",
      " |-- continentExp: string (nullable = true)\n",
      " |-- Cumulative_number_for_14_days_of_COVID-19_cases_per_100000: double (nullable = true)\n",
      "\n"
     ]
    }
   ],
   "source": [
    "covidDfSpark.printSchema()"
   ]
  },
  {
   "cell_type": "markdown",
   "id": "df62fab0",
   "metadata": {},
   "source": [
    "<div align=\"right\" dir=\"auto\">\n",
    "داده‌های مربوط به ستون   countryterritoryCode ,deaths را پرینت کنید(۱۰تا) \n",
    "\n",
    "</div>"
   ]
  },
  {
   "cell_type": "code",
   "execution_count": 10,
   "id": "ca242f24",
   "metadata": {},
   "outputs": [
    {
     "name": "stdout",
     "output_type": "stream",
     "text": [
      "+------+--------------------+\n",
      "|deaths|countryterritoryCode|\n",
      "+------+--------------------+\n",
      "|     6|                 AFG|\n",
      "|     9|                 AFG|\n",
      "|    11|                 AFG|\n",
      "|    10|                 AFG|\n",
      "|    16|                 AFG|\n",
      "|    13|                 AFG|\n",
      "|     6|                 AFG|\n",
      "|    26|                 AFG|\n",
      "|    10|                 AFG|\n",
      "|    18|                 AFG|\n",
      "+------+--------------------+\n",
      "only showing top 10 rows\n",
      "\n"
     ]
    },
    {
     "name": "stderr",
     "output_type": "stream",
     "text": [
      "2024-01-03 19:58:43,052 WARN scheduler.TaskSetManager: Stage 2 contains a task of very large size (1650 KiB). The maximum recommended task size is 1000 KiB.\n"
     ]
    }
   ],
   "source": [
    "# to-do\n",
    "# covidDfSpark.select('deaths', 'countryterritoryCode').show(10)\n",
    "query = \"\"\"\n",
    "    SELECT deaths, countryterritoryCode\n",
    "    FROM covid\n",
    "\"\"\"\n",
    "spark.sql(query).show(10)"
   ]
  },
  {
   "cell_type": "markdown",
   "id": "3aeabc3b",
   "metadata": {},
   "source": [
    "<div align=\"right\" dir=\"auto\">\n",
    "تعداد کل موارد Covid برابر است با?\n",
    "</div>"
   ]
  },
  {
   "cell_type": "code",
   "execution_count": 11,
   "id": "7aa0eed9",
   "metadata": {},
   "outputs": [
    {
     "name": "stderr",
     "output_type": "stream",
     "text": [
      "2024-01-03 19:58:43,228 WARN scheduler.TaskSetManager: Stage 3 contains a task of very large size (1650 KiB). The maximum recommended task size is 1000 KiB.\n"
     ]
    },
    {
     "name": "stdout",
     "output_type": "stream",
     "text": [
      "Number of all Covid is  61900\n"
     ]
    }
   ],
   "source": [
    "# to-do\n",
    "total_number = covidDfSpark.count()\n",
    "print('Number of all Covid is ', total_number)"
   ]
  },
  {
   "cell_type": "markdown",
   "id": "84cf70b2",
   "metadata": {},
   "source": [
    "<div align=\"right\" dir=\"auto\">\n",
    "مجموع موارد کروناویروس در اکتبر ۲۰۲۰ در بلژیک را به دست آورید.\n",
    "</div>\n",
    "\n"
   ]
  },
  {
   "cell_type": "code",
   "execution_count": 12,
   "id": "edb7da9d",
   "metadata": {},
   "outputs": [
    {
     "name": "stdout",
     "output_type": "stream",
     "text": [
      "+----------+\n",
      "|TotalCases|\n",
      "+----------+\n",
      "|    320023|\n",
      "+----------+\n",
      "\n"
     ]
    },
    {
     "name": "stderr",
     "output_type": "stream",
     "text": [
      "2024-01-03 19:58:43,536 WARN scheduler.TaskSetManager: Stage 5 contains a task of very large size (1650 KiB). The maximum recommended task size is 1000 KiB.\n"
     ]
    }
   ],
   "source": [
    "# to-do\n",
    "query = \"\"\"\n",
    "    SELECT sum(cases) as TotalCases \n",
    "    FROM covid \n",
    "    WHERE year=2020 and month=10 and countryterritoryCode=\"BEL\"\n",
    "\"\"\"\n",
    "spark.sql(query).show()"
   ]
  },
  {
   "cell_type": "markdown",
   "id": "c8d650f1",
   "metadata": {},
   "source": [
    "\n",
    "<div align=\"right\" dir=\"auto\">\n",
    "جمع تعداد موارد و مرگ‌ها در کشورهای آسیا به دست آورید.\n",
    " \n",
    " </div>\n"
   ]
  },
  {
   "cell_type": "code",
   "execution_count": 13,
   "id": "e188c941",
   "metadata": {},
   "outputs": [
    {
     "name": "stderr",
     "output_type": "stream",
     "text": [
      "2024-01-03 19:58:43,866 WARN scheduler.TaskSetManager: Stage 7 contains a task of very large size (1650 KiB). The maximum recommended task size is 1000 KiB.\n",
      "                                                                                \r"
     ]
    },
    {
     "name": "stdout",
     "output_type": "stream",
     "text": [
      "+--------------------+----------+----------+\n",
      "|countryterritoryCode|TotalCases|TotalDeath|\n",
      "+--------------------+----------+----------+\n",
      "|                 PSE|    124657|      1079|\n",
      "|                 JOR|    259614|      3365|\n",
      "|                 BRN|       152|         3|\n",
      "|                 QAT|    140961|       240|\n",
      "|                 ARE|    184949|       617|\n",
      "|                 TJK|     12704|        88|\n",
      "|                 NPL|    248423|      1698|\n",
      "|                 AFG|     49273|      1971|\n",
      "|                 BGD|    490533|      7052|\n",
      "|                 YEM|      2083|       606|\n",
      "+--------------------+----------+----------+\n",
      "only showing top 10 rows\n",
      "\n"
     ]
    }
   ],
   "source": [
    "# to-do\n",
    "query = \"\"\"\n",
    "    SELECT countryterritoryCode, sum(cases) as TotalCases, sum(deaths) as TotalDeath \n",
    "    FROM covid where continentExp=\"Asia\" \n",
    "    GROUP BY countryterritoryCode\n",
    "\"\"\"\n",
    "spark.sql(query).show(10)"
   ]
  },
  {
   "cell_type": "markdown",
   "id": "0595b356",
   "metadata": {},
   "source": [
    "\n",
    "<div align=\"right\" dir=\"auto\">\n",
    "میانگین تعداد موارد و مرگ‌ها در کشورهای آسیا به دست آورید.\n",
    " \n",
    " </div>\n"
   ]
  },
  {
   "cell_type": "code",
   "execution_count": 14,
   "id": "3f59a421",
   "metadata": {},
   "outputs": [
    {
     "name": "stdout",
     "output_type": "stream",
     "text": [
      "Average number of cases and deaths in the countries of Asia:\n"
     ]
    },
    {
     "name": "stderr",
     "output_type": "stream",
     "text": [
      "2024-01-03 19:58:45,766 WARN scheduler.TaskSetManager: Stage 15 contains a task of very large size (1650 KiB). The maximum recommended task size is 1000 KiB.\n",
      "[Stage 16:======================================>               (144 + 2) / 200]\r"
     ]
    },
    {
     "name": "stdout",
     "output_type": "stream",
     "text": [
      "+-----------------+----------------+-----------------+\n",
      "|          country|Average of cases|Average of deaths|\n",
      "+-----------------+----------------+-----------------+\n",
      "|      Afghanistan|          144.92|             5.80|\n",
      "|          Bahrain|          255.42|             1.00|\n",
      "|       Bangladesh|         1783.76|            25.64|\n",
      "|           Bhutan|            1.59|             0.00|\n",
      "|Brunei_Darussalam|            0.54|             0.01|\n",
      "|         Cambodia|            1.05|             0.00|\n",
      "|            China|          262.92|            13.54|\n",
      "|            India|        28321.20|           410.76|\n",
      "|        Indonesia|         1801.22|            54.87|\n",
      "|             Iran|         3166.48|           149.13|\n",
      "+-----------------+----------------+-----------------+\n",
      "only showing top 10 rows\n",
      "\n"
     ]
    },
    {
     "name": "stderr",
     "output_type": "stream",
     "text": [
      "                                                                                \r"
     ]
    }
   ],
   "source": [
    "# to-do\n",
    "print('Average number of cases and deaths in the countries of Asia:')\n",
    "query = \"\"\"\n",
    "    SELECT countriesAndTerritories AS country, CAST(AVG(cases) AS DECIMAL(10,2)) AS `Average of cases`, CAST(AVG(deaths) AS DECIMAL(10,2)) AS `Average of deaths` \n",
    "    FROM covid \n",
    "    WHERE continentExp=\"Asia\" \n",
    "    GROUP BY countriesAndTerritories \n",
    "    ORDER BY countriesAndTerritories\n",
    "\"\"\"\n",
    "spark.sql(query).show(10)"
   ]
  },
  {
   "cell_type": "markdown",
   "id": "e845f1e4",
   "metadata": {},
   "source": [
    "\n",
    "<div align=\"right\" dir=\"auto\">\n",
    "جمع مرگ‌های کووید در اروپا بر اساس تاریخ به دست آورید.\n",
    " \n",
    " </div>"
   ]
  },
  {
   "cell_type": "code",
   "execution_count": 15,
   "id": "c08c4bc3",
   "metadata": {},
   "outputs": [
    {
     "name": "stderr",
     "output_type": "stream",
     "text": [
      "2024-01-03 19:58:47,090 WARN scheduler.TaskSetManager: Stage 17 contains a task of very large size (1650 KiB). The maximum recommended task size is 1000 KiB.\n"
     ]
    },
    {
     "name": "stdout",
     "output_type": "stream",
     "text": [
      "Sum of deaths of Covid in Europe\n",
      "+----------+--------------------------------+\n",
      "|   dateRep|Sum of deaths of Covid in Europe|\n",
      "+----------+--------------------------------+\n",
      "|25/11/2020|                            6391|\n",
      "|02/12/2020|                            6195|\n",
      "|09/12/2020|                            6074|\n",
      "|28/11/2020|                            6001|\n",
      "|21/11/2020|                            5909|\n",
      "|18/11/2020|                            5829|\n",
      "|05/12/2020|                            5783|\n",
      "|03/12/2020|                            5728|\n",
      "|26/11/2020|                            5719|\n",
      "|04/12/2020|                            5716|\n",
      "+----------+--------------------------------+\n",
      "only showing top 10 rows\n",
      "\n"
     ]
    },
    {
     "name": "stderr",
     "output_type": "stream",
     "text": [
      "                                                                                \r"
     ]
    }
   ],
   "source": [
    "# to-do\n",
    "print('Sum of deaths of Covid in Europe')\n",
    "query = \"\"\"\n",
    "    SELECT dateRep, sum(deaths) as `Sum of deaths of Covid in Europe` \n",
    "    FROM covid where continentExp=\"Europe\" \n",
    "    GROUP BY dateRep \n",
    "    ORDER BY `Sum of deaths of Covid in Europe` DESC \n",
    "\"\"\"\n",
    "spark.sql(query).show(10)"
   ]
  },
  {
   "cell_type": "markdown",
   "id": "75162890",
   "metadata": {},
   "source": [
    "\n",
    "<div align=\"right\" dir=\"auto\">\n",
    "   \n",
    "#  اسپارک toPandas \n",
    "\n",
    "    یکی ار قابلیت‌های اسپارک این است که می‌توان dataframe های آن را به \n",
    "    dataframe های pandas تبدیل کند و از توابع آن از جمله\n",
    "    توابع plot  آن برای رسم نمودار استفاده کرد.\n",
    "    در این قسمت از شما انتظار می‌رود نمودار تعداد جنگ‌ها بر اساس هر گونه را رسم کنید.\n",
    "    \n",
    " </div>\n",
    "  \n",
    "    \n",
    "\n",
    "  \n",
    "[pyspark.sql.DataFrame.toPandas](https://spark.apache.org/docs/latest/api/python/reference/pyspark.sql/api/pyspark.sql.DataFrame.toPandas.html)\n",
    "\n",
    "[pyspark.pandas.DataFrame.plot](https://spark.apache.org/docs/3.2.1/api/python/reference/pyspark.pandas/api/pyspark.pandas.DataFrame.plot.html)\n"
   ]
  },
  {
   "cell_type": "markdown",
   "id": "f5cbc6f8",
   "metadata": {},
   "source": [
    "\n",
    "<div align=\"right\" dir=\"auto\">\n",
    "جمع موارد و مرگ‌ها برای هر قاره را به دست آورید.\n",
    " \n",
    " </div>"
   ]
  },
  {
   "cell_type": "code",
   "execution_count": 16,
   "id": "4ad83490",
   "metadata": {},
   "outputs": [],
   "source": [
    "#!pip install matplotlib\n",
    "import matplotlib\n",
    "import matplotlib.pyplot as plt"
   ]
  },
  {
   "cell_type": "code",
   "execution_count": 17,
   "id": "9c120927",
   "metadata": {},
   "outputs": [
    {
     "name": "stderr",
     "output_type": "stream",
     "text": [
      "2024-01-03 19:58:48,511 WARN scheduler.TaskSetManager: Stage 19 contains a task of very large size (1650 KiB). The maximum recommended task size is 1000 KiB.\n",
      "2024-01-03 19:58:48,616 WARN scheduler.TaskSetManager: Stage 20 contains a task of very large size (1650 KiB). The maximum recommended task size is 1000 KiB.\n",
      "[Stage 21:=============================================>        (170 + 2) / 200]\r"
     ]
    },
    {
     "name": "stdout",
     "output_type": "stream",
     "text": [
      "+------------+-------+\n",
      "|continentExp|  count|\n",
      "+------------+-------+\n",
      "|      Europe|5552906|\n",
      "|        Asia|4236133|\n",
      "|      Africa|4105321|\n",
      "|     America|3886864|\n",
      "|     Oceania| 680812|\n",
      "|       Other|   4096|\n",
      "+------------+-------+\n",
      "\n"
     ]
    },
    {
     "name": "stderr",
     "output_type": "stream",
     "text": [
      "                                                                                \r"
     ]
    }
   ],
   "source": [
    "# to-do\n",
    "# from pyspark.sql.functions import desc\n",
    "# Perform a self-join operation and provide distinct aliases for the columns from each instance\n",
    "# joined_data = covidDfSpark.alias('a').join(covidDfSpark.alias('b'), on='countriesAndTerritories')\n",
    "# Group by the 'a.continentExp' column from the joined data and count occurrences\n",
    "# joined_data.groupBy('a.continentExp').count().orderBy(desc('count')).show()\n",
    "query = \"\"\"\n",
    "    SELECT a.continentExp, COUNT(a.deaths) AS `count` \n",
    "    FROM covid a\n",
    "    JOIN covid b ON a.countriesAndTerritories=b.countriesAndTerritories\n",
    "    GROUP BY a.continentExp\n",
    "    ORDER BY count desc\n",
    "\"\"\"\n",
    "deaths_and_cases = spark.sql(query)\n",
    "deaths_and_cases.show()"
   ]
  },
  {
   "cell_type": "code",
   "execution_count": 18,
   "id": "97816552",
   "metadata": {},
   "outputs": [
    {
     "name": "stderr",
     "output_type": "stream",
     "text": [
      "2024-01-03 19:58:51,207 WARN scheduler.TaskSetManager: Stage 23 contains a task of very large size (1650 KiB). The maximum recommended task size is 1000 KiB.\n",
      "2024-01-03 19:58:51,280 WARN scheduler.TaskSetManager: Stage 24 contains a task of very large size (1650 KiB). The maximum recommended task size is 1000 KiB.\n",
      "                                                                                \r"
     ]
    },
    {
     "data": {
      "text/plain": [
       "<Axes: xlabel='continentExp'>"
      ]
     },
     "execution_count": 18,
     "metadata": {},
     "output_type": "execute_result"
    },
    {
     "data": {
      "image/png": "[encoded data removed]",
      "text/plain": [
       "<Figure size 640x480 with 1 Axes>"
      ]
     },
     "metadata": {},
     "output_type": "display_data"
    }
   ],
   "source": [
    "deaths_and_cases.toPandas().plot.bar(x='continentExp', y='count')  "
   ]
  },
  {
   "cell_type": "markdown",
   "id": "4d298180",
   "metadata": {},
   "source": [
    "<div align=\"right\" dir=\"auto\">\n",
    "نمودار مبتلایان در طور زمان را برای کشور ایران را بنویسید. \n",
    "    \n",
    " </div>\n",
    "  "
   ]
  },
  {
   "cell_type": "code",
   "execution_count": 19,
   "id": "b88f0edb",
   "metadata": {},
   "outputs": [],
   "source": [
    "# !pip install datetime"
   ]
  },
  {
   "cell_type": "code",
   "execution_count": 20,
   "id": "e1349801",
   "metadata": {},
   "outputs": [
    {
     "name": "stderr",
     "output_type": "stream",
     "text": [
      "2024-01-03 19:58:53,973 WARN scheduler.TaskSetManager: Stage 32 contains a task of very large size (1650 KiB). The maximum recommended task size is 1000 KiB.\n"
     ]
    },
    {
     "data": {
      "image/png": "[encoded data removed]",
      "text/plain": [
       "<Figure size 1000x600 with 1 Axes>"
      ]
     },
     "metadata": {},
     "output_type": "display_data"
    }
   ],
   "source": [
    "# to-do\n",
    "query = \"\"\"\n",
    "    SELECT cases AS `Number of cases`, dateRep AS `date` \n",
    "    FROM covid \n",
    "    WHERE countriesAndTerritories=\"Iran\"\n",
    "\"\"\"\n",
    "iran_cases_date = spark.sql(query)\n",
    "pandas_iran_cases_date = iran_cases_date.toPandas()\n",
    "fig, ax = plt.subplots(figsize = (10, 6))\n",
    "ax = pandas_iran_cases_date.plot.scatter(title='COVID-19 Cases in Iran during 2020 (Scatter plot)', \n",
    "                                       x='date', y='Number of cases', c=\"blue\", s=40, ax=ax,\n",
    "                                       xlabel='Date', ylabel='Number of Cases', alpha=0.5)\n",
    "ax.grid()\n",
    "ax.invert_xaxis()\n",
    "ax.set_xticks([50, 110, 170, 230, 290, 350])\n",
    "ax.set_xticklabels([\"2020-01\", \"2020-03\",\"2020-05\", \"2020-07\",\"2020-09\", \"2020-11\"], rotation=45)\n",
    "\n",
    "plt.show()"
   ]
  },
  {
   "cell_type": "code",
   "execution_count": 22,
   "id": "09410575",
   "metadata": {},
   "outputs": [
    {
     "name": "stdout",
     "output_type": "stream",
     "text": [
      "+----------+\n",
      "|      date|\n",
      "+----------+\n",
      "|14/12/2020|\n",
      "|13/12/2020|\n",
      "|12/12/2020|\n",
      "|11/12/2020|\n",
      "|10/12/2020|\n",
      "|09/12/2020|\n",
      "|08/12/2020|\n",
      "|07/12/2020|\n",
      "|06/12/2020|\n",
      "|05/12/2020|\n",
      "|04/12/2020|\n",
      "|03/12/2020|\n",
      "|02/12/2020|\n",
      "|01/12/2020|\n",
      "|30/11/2020|\n",
      "|29/11/2020|\n",
      "|28/11/2020|\n",
      "|27/11/2020|\n",
      "|26/11/2020|\n",
      "|25/11/2020|\n",
      "+----------+\n",
      "only showing top 20 rows\n",
      "\n"
     ]
    },
    {
     "name": "stderr",
     "output_type": "stream",
     "text": [
      "2024-01-03 20:00:21,312 WARN scheduler.TaskSetManager: Stage 33 contains a task of very large size (1650 KiB). The maximum recommended task size is 1000 KiB.\n"
     ]
    }
   ],
   "source": [
    "# Assuming you have a DataFrame named covidDfSpark\n",
    "iran_cases_2020=iran_cases_date.toDF('cases', 'date')\n",
    "iran_cases_2020.select('date').show(20)"
   ]
  },
  {
   "cell_type": "markdown",
   "id": "b9b8ea50",
   "metadata": {},
   "source": [
    "\n",
    "<div align=\"right\" dir=\"auto\">\n",
    "   \n",
    "#  اسپارک Shuffle \n",
    "\n",
    "    Spark SQL shuffle مکانیزمی است برای توزیع مجدد یا پارتیشن بندی مجدد داده ها به طوری که داده ها به طور متفاوت در پارتیشن ها گروه بندی می شوند، بر اساس اندازه داده شما ممکن است نیاز باشد تعداد پارتیشن های RDD/DataFrame را با استفاده از اسپارک کاهش یا افزایش دهید.\n",
    "    برای مثال وقتی روی دو dataframe مختلف که روی شبکه توزیع شده اند\n",
    "    دستور join را میزنیم یک عملیات \n",
    "    shuffling انجام میشود\n",
    "    در این قسمت از شما انتظار می‌رود کوئری جوین زیر را نوشته و اجرا کنید همچنین به  صفحه \n",
    "    application master ui\n",
    "    مراجعه کنید و نحوه shuffleing را گزارش کنید . \n",
    "     و همچنین توضیح دهید DAG scheduler  در اسپارک چیست ؟\n",
    " </div>\n",
    "  \n",
    "    \n",
    "\n",
    "  \n",
    "[shuffling in standalone cluster](https://medium.com/@rachit1arora/apache-spark-shuffle-service-there-are-more-than-one-options-c1a8e098230e)\n",
    "\n"
   ]
  },
  {
   "cell_type": "markdown",
   "id": "5283bbf5",
   "metadata": {},
   "source": [
    "\n",
    "\n",
    "<div align=\"right\" dir=\"auto\">\n",
    "از desc در PySpark برای مرتب‌سازی نزولی استفاده  کرده و با استفاده از alias یک self-join روی DataFrame covidDfSpark انجام دهید، سپس با گروه‌بندی بر اساس ستون a.continentExp از داده‌های پیوسته، تعداد وقوع‌ها شمرده شده و نتایج نمایش دهید. \n",
    "</div>\n",
    "\n"
   ]
  },
  {
   "cell_type": "code",
   "execution_count": 23,
   "id": "04cadb2e",
   "metadata": {},
   "outputs": [
    {
     "name": "stderr",
     "output_type": "stream",
     "text": [
      "2024-01-03 20:00:21,457 WARN scheduler.TaskSetManager: Stage 34 contains a task of very large size (1650 KiB). The maximum recommended task size is 1000 KiB.\n",
      "2024-01-03 20:00:21,527 WARN scheduler.TaskSetManager: Stage 35 contains a task of very large size (1650 KiB). The maximum recommended task size is 1000 KiB.\n",
      "[Stage 36:=================================================>    (183 + 2) / 200]\r"
     ]
    },
    {
     "name": "stdout",
     "output_type": "stream",
     "text": [
      "+------------+-------+\n",
      "|continentExp|  count|\n",
      "+------------+-------+\n",
      "|      Europe|5552906|\n",
      "|        Asia|4236133|\n",
      "|      Africa|4105321|\n",
      "|     America|3886864|\n",
      "|     Oceania| 680812|\n",
      "|       Other|   4096|\n",
      "+------------+-------+\n",
      "\n"
     ]
    },
    {
     "name": "stderr",
     "output_type": "stream",
     "text": [
      "                                                                                \r"
     ]
    }
   ],
   "source": [
    "# to-do\n",
    "query = \"\"\"\n",
    "    SELECT a.continentExp, COUNT(*) AS count\n",
    "    FROM covid a\n",
    "    JOIN covid b ON a.countriesAndTerritories = b.countriesAndTerritories\n",
    "    GROUP BY a.continentExp\n",
    "    ORDER BY count DESC\n",
    "\"\"\"\n",
    "spark.sql(query).show()"
   ]
  },
  {
   "cell_type": "code",
   "execution_count": 24,
   "id": "fed012f1",
   "metadata": {},
   "outputs": [],
   "source": [
    "import time\n",
    "\n",
    "epochNow = int(time.time())"
   ]
  },
  {
   "cell_type": "markdown",
   "id": "b167c9fd",
   "metadata": {},
   "source": [
    "<div align=\"right\" dir=\"auto\">\n",
    "نوشتن یکDataFrame به عنوان یک فایل parquet در HDFS\n",
    " \n",
    " </div>"
   ]
  },
  {
   "cell_type": "code",
   "execution_count": 25,
   "id": "e3661c0c",
   "metadata": {},
   "outputs": [
    {
     "name": "stderr",
     "output_type": "stream",
     "text": [
      "2024-01-03 20:00:23,963 WARN scheduler.TaskSetManager: Stage 38 contains a task of very large size (1650 KiB). The maximum recommended task size is 1000 KiB.\n",
      "[Stage 38:>                                                         (0 + 2) / 2]\r"
     ]
    },
    {
     "name": "stdout",
     "output_type": "stream",
     "text": [
      "Covid Dataframe stored in Hadoop.\n"
     ]
    },
    {
     "name": "stderr",
     "output_type": "stream",
     "text": [
      "                                                                                \r"
     ]
    }
   ],
   "source": [
    "covidDfSpark.write.parquet(\"hdfs://namenode:8020/covid/{}_{}.parquet\".format(csvName,epochNow))\n",
    "print(\"Covid Dataframe stored in Hadoop.\")"
   ]
  },
  {
   "cell_type": "code",
   "execution_count": 26,
   "id": "33167aa1",
   "metadata": {},
   "outputs": [
    {
     "name": "stdout",
     "output_type": "stream",
     "text": [
      "Covid Dataframe read from Hadoop : \n",
      "+----------+---+-----+----+-----+------+-----------------------+-----+--------------------+-----------+------------+----------------------------------------------------------+\n",
      "|   dateRep|day|month|year|cases|deaths|countriesAndTerritories|geoId|countryterritoryCode|popData2019|continentExp|Cumulative_number_for_14_days_of_COVID-19_cases_per_100000|\n",
      "+----------+---+-----+----+-----+------+-----------------------+-----+--------------------+-----------+------------+----------------------------------------------------------+\n",
      "|08/09/2020|  8|    9|2020|   80|     1|             Kazakhstan|   KZ|                 KAZ|1.8551428E7|        Asia|                                               36.33682539|\n",
      "|07/09/2020|  7|    9|2020|  199|     1|             Kazakhstan|   KZ|                 KAZ|1.8551428E7|        Asia|                                               35.90559174|\n",
      "|06/09/2020|  6|    9|2020|  896|     8|             Kazakhstan|   KZ|                 KAZ|1.8551428E7|        Asia|                                               36.22901698|\n",
      "|05/09/2020|  5|    9|2020|  104|     0|             Kazakhstan|   KZ|                 KAZ|1.8551428E7|        Asia|                                                36.5740039|\n",
      "|04/09/2020|  4|    9|2020|  570|     4|             Kazakhstan|   KZ|                 KAZ|1.8551428E7|        Asia|                                               40.90790208|\n",
      "|03/09/2020|  3|    9|2020|  659|     6|             Kazakhstan|   KZ|                 KAZ|1.8551428E7|        Asia|                                               43.11258411|\n",
      "|02/09/2020|  2|    9|2020|   99|    68|             Kazakhstan|   KZ|                 KAZ|1.8551428E7|        Asia|                                               45.11782058|\n",
      "|01/09/2020|  1|    9|2020|  923|    34|             Kazakhstan|   KZ|                 KAZ|1.8551428E7|        Asia|                                               51.87201762|\n",
      "|31/08/2020| 31|    8|2020|    0|     0|             Kazakhstan|   KZ|                 KAZ|1.8551428E7|        Asia|                                               48.69705987|\n",
      "|30/08/2020| 30|    8|2020|  633|     0|             Kazakhstan|   KZ|                 KAZ|1.8551428E7|        Asia|                                               51.27368093|\n",
      "|29/08/2020| 29|    8|2020| 1422|     0|             Kazakhstan|   KZ|                 KAZ|1.8551428E7|        Asia|                                               55.30032513|\n",
      "|28/08/2020| 28|    8|2020|  954|     0|             Kazakhstan|   KZ|                 KAZ|1.8551428E7|        Asia|                                               54.46480993|\n",
      "|27/08/2020| 27|    8|2020|  202|     0|             Kazakhstan|   KZ|                 KAZ|1.8551428E7|        Asia|                                               56.92284173|\n",
      "|26/08/2020| 26|    8|2020|    0|     0|             Kazakhstan|   KZ|                 KAZ|1.8551428E7|        Asia|                                               63.86031307|\n",
      "|25/08/2020| 25|    8|2020|    0|   108|             Kazakhstan|   KZ|                 KAZ|1.8551428E7|        Asia|                                               75.25566226|\n",
      "|24/08/2020| 24|    8|2020|  259|     2|             Kazakhstan|   KZ|                 KAZ|1.8551428E7|        Asia|                                               79.45479992|\n",
      "|23/08/2020| 23|    8|2020|  960|     8|             Kazakhstan|   KZ|                 KAZ|1.8551428E7|        Asia|                                               82.91005954|\n",
      "|22/08/2020| 22|    8|2020|  908|     5|             Kazakhstan|   KZ|                 KAZ|1.8551428E7|        Asia|                                               87.88541777|\n",
      "|21/08/2020| 21|    8|2020|  979|     6|             Kazakhstan|   KZ|                 KAZ|1.8551428E7|        Asia|                                               93.82027087|\n",
      "|20/08/2020| 20|    8|2020| 1031|     6|             Kazakhstan|   KZ|                 KAZ|1.8551428E7|        Asia|                                              101.50162025|\n",
      "+----------+---+-----+----+-----+------+-----------------------+-----+--------------------+-----------+------------+----------------------------------------------------------+\n",
      "only showing top 20 rows\n",
      "\n"
     ]
    }
   ],
   "source": [
    "# Read from HDFS to confirm it was successfully stored\n",
    "\n",
    "df_load = spark.read.parquet(\"hdfs://namenode:8020/covid/{}_{}.parquet\".format(csvName,epochNow))\n",
    "print(\"Covid Dataframe read from Hadoop : \")\n",
    "df_load.show()"
   ]
  },
  {
   "cell_type": "markdown",
   "id": "326c4717",
   "metadata": {},
   "source": [
    "\n",
    "<div align=\"right\" dir=\"auto\">\n",
    "   \n",
    "#  دیتاست دوم(پترن‌های باکتری Ecoli)\n",
    " </div>\n",
    "  "
   ]
  },
  {
   "cell_type": "code",
   "execution_count": 27,
   "id": "224141a6",
   "metadata": {},
   "outputs": [],
   "source": [
    "# Create a new SparkSession\n",
    "spark2 = SparkSession.builder.appName('spark-notebook-2').master('spark://spark-master:7077').getOrCreate()\n",
    "\n",
    "# Create the schema\n",
    "schema = StructType([\n",
    "    StructField(\"0\", StringType(), True)])"
   ]
  },
  {
   "cell_type": "code",
   "execution_count": 28,
   "id": "ee94c3b0",
   "metadata": {},
   "outputs": [
    {
     "name": "stdout",
     "output_type": "stream",
     "text": [
      "Loading data from text file: ./data/ecoli.txt\n",
      "Loading data from text file: ./data/.ipynb_checkpoints/ecoli-checkpoint.txt\n"
     ]
    }
   ],
   "source": [
    "# The data from covid.csv will be loaded from a local file path\n",
    "for path, subdirs, files in os.walk('./data/'):\n",
    "    for name in files:\n",
    "        if \"ecoli\" in name and name.endswith(\".txt\"):\n",
    "            txtPath = os.path.join(path, name)\n",
    "            print(\"Loading data from text file: {}\".format(txtPath))\n",
    "            # Load the ecoli.txt file\n",
    "            lines_txt = pandas.read_csv(txtPath)"
   ]
  },
  {
   "cell_type": "code",
   "execution_count": 29,
   "id": "f535283c",
   "metadata": {},
   "outputs": [],
   "source": [
    "# Create a new SparkSession\n",
    "spark2 = SparkSession.builder.appName('spark-notebook-2').master('spark://spark-master:7077').getOrCreate()\n",
    "\n",
    "# Create the schema\n",
    "schema = StructType([StructField(\"0\", StringType(), True)])"
   ]
  },
  {
   "cell_type": "code",
   "execution_count": 30,
   "id": "ccb602ae",
   "metadata": {},
   "outputs": [
    {
     "name": "stdout",
     "output_type": "stream",
     "text": [
      "+--------------------+\n",
      "|                   0|\n",
      "+--------------------+\n",
      "|TTCTGAACTGGTTACCT...|\n",
      "|TATAGGCATAGCGCACA...|\n",
      "|ATTACCACCACCATCAC...|\n",
      "|CCCGCACCTGACAGTGC...|\n",
      "|GTTCGGCGGTACATCAG...|\n",
      "|AGGCAGGGGCAGGTGGC...|\n",
      "|AAAAAACCATTAGCGGC...|\n",
      "|GACGGGACTCGCCGCCG...|\n",
      "|GCCCAAATAAAACATGT...|\n",
      "|TGATTTGCCGTGGCGAG...|\n",
      "+--------------------+\n",
      "only showing top 10 rows\n",
      "\n"
     ]
    },
    {
     "name": "stderr",
     "output_type": "stream",
     "text": [
      "2024-01-03 20:00:26,369 WARN scheduler.TaskSetManager: Stage 41 contains a task of very large size (2405 KiB). The maximum recommended task size is 1000 KiB.\n"
     ]
    }
   ],
   "source": [
    "lines_sp = spark2.createDataFrame(lines_txt, schema=schema)\n",
    "# Preview the structure\n",
    "lines_sp.show(10)"
   ]
  },
  {
   "cell_type": "markdown",
   "id": "41747efa",
   "metadata": {},
   "source": [
    "<div align=\"right\" dir=\"auto\">\n",
    "   \n",
    "#  اسپارک RDD \n",
    "\n",
    "    \n",
    " </div>\n",
    "  "
   ]
  },
  {
   "cell_type": "markdown",
   "id": "d0c4aaeb",
   "metadata": {},
   "source": [
    "<div align=\"right\" dir=\"auto\">\n",
    "DataFrame را به RDD تبدیل کنید.\n",
    " </div>"
   ]
  },
  {
   "cell_type": "code",
   "execution_count": 31,
   "id": "243db0d8",
   "metadata": {},
   "outputs": [],
   "source": [
    "# to-do\n",
    "lines_rdd = lines_sp.rdd"
   ]
  },
  {
   "cell_type": "code",
   "execution_count": 32,
   "id": "febb2062",
   "metadata": {},
   "outputs": [
    {
     "data": {
      "text/plain": [
       "PythonRDD[116] at RDD at PythonRDD.scala:53"
      ]
     },
     "execution_count": 32,
     "metadata": {},
     "output_type": "execute_result"
    }
   ],
   "source": [
    "# Define the lengths for patterns (3 and 4)\n",
    "pattern_lengths = [3, 4]\n",
    "lines_rdd = lines_rdd.map(lambda row: row[0])\n",
    "lines_rdd"
   ]
  },
  {
   "cell_type": "code",
   "execution_count": 33,
   "id": "208ae33d",
   "metadata": {},
   "outputs": [],
   "source": [
    "def line_to_grams(line, length):\n",
    "    ngrams = []\n",
    "    for i in range(len(line) - length + 1):\n",
    "        ngrams.append(line[i : i + length])\n",
    "    return ngrams\n",
    "\n",
    "pattern_lengths = [3, 4]"
   ]
  },
  {
   "cell_type": "markdown",
   "id": "94f3fe49",
   "metadata": {},
   "source": [
    "<div align=\"right\" dir=\"auto\">\n",
    "ایجاد RDD برای هر طول الگو (n-gram):\n",
    " \n",
    "ابتدا یک لیست از RDDهای n-gramها برای هر طول الگو (pattern length) ایجاد کرده.\n",
    "برای هر طول الگو، با استفاده از flatMap بر روی هر خط موجود در مجموعه داده (lines_rdd)، n-gramهای مربوط به طول الگو مورد نظر را ایجاد کرده و به لیستی از RDDها اضافه کنید.\n",
    " </div>\n",
    "  "
   ]
  },
  {
   "cell_type": "code",
   "execution_count": 34,
   "id": "9f5d645d",
   "metadata": {},
   "outputs": [
    {
     "data": {
      "text/plain": [
       "[PythonRDD[117] at RDD at PythonRDD.scala:53,\n",
       " PythonRDD[118] at RDD at PythonRDD.scala:53]"
      ]
     },
     "execution_count": 34,
     "metadata": {},
     "output_type": "execute_result"
    }
   ],
   "source": [
    "ngrams_rdds = []\n",
    "for length in pattern_lengths:\n",
    "    # to-do\n",
    "    flat_map = lines_rdd.flatMap(lambda x: line_to_grams(x, length))\n",
    "    ngrams_rdds.append(flat_map)\n",
    "    \n",
    "ngrams_rdds"
   ]
  },
  {
   "cell_type": "markdown",
   "id": "13530280",
   "metadata": {},
   "source": [
    "\n",
    "<div align=\"right\" dir=\"auto\">\n",
    " محاسبه تعداد n-gramها:\n",
    "سپس، برای هر RDD حاصل از مرحله قبل، تعداد تکرارهای هر n-gram را محاسبه کرده.\n",
    "این کار با استفاده از map و reduceByKey بر روی هر n-gram، جفت‌هایی از (n-gram, تعداد تکرار) را ایجاد کرده و سپس نتایج را به یک لیست از RDDها اضافه کرده.\n",
    "در نهایت، دو RDD ایجاد شده داده‌های مربوط به هر طول الگو را در اختیار دارند.\n",
    "     </div>"
   ]
  },
  {
   "cell_type": "code",
   "execution_count": 35,
   "id": "feb5c332",
   "metadata": {},
   "outputs": [
    {
     "ename": "NameError",
     "evalue": "name 'rdd' is not defined",
     "output_type": "error",
     "traceback": [
      "\u001b[0;31m---------------------------------------------------------------------------\u001b[0m",
      "\u001b[0;31mNameError\u001b[0m                                 Traceback (most recent call last)",
      "Cell \u001b[0;32mIn[35], line 6\u001b[0m\n\u001b[1;32m      4\u001b[0m     reduced_rdd \u001b[38;5;241m=\u001b[39m ngrams_rdd\u001b[38;5;241m.\u001b[39mmap(\u001b[38;5;28;01mlambda\u001b[39;00m x: (x, \u001b[38;5;241m1\u001b[39m))\u001b[38;5;241m.\u001b[39mreduceByKey(\u001b[38;5;28;01mlambda\u001b[39;00m v1, v2: v1 \u001b[38;5;241m+\u001b[39m v2)\n\u001b[1;32m      5\u001b[0m     tupled_rdd \u001b[38;5;241m=\u001b[39m reduced_rdd\u001b[38;5;241m.\u001b[39mmap(\u001b[38;5;28;01mlambda\u001b[39;00m x: (x[\u001b[38;5;241m1\u001b[39m], x[\u001b[38;5;241m0\u001b[39m]))\n\u001b[0;32m----> 6\u001b[0m     count_rdds\u001b[38;5;241m.\u001b[39mappend(\u001b[43mrdd\u001b[49m)\n\u001b[1;32m      8\u001b[0m count_rdds\n",
      "\u001b[0;31mNameError\u001b[0m: name 'rdd' is not defined"
     ]
    }
   ],
   "source": [
    "count_rdds = []\n",
    "for ngrams_rdd, length in zip(ngrams_rdds, pattern_lengths):\n",
    "    # to-do\n",
    "    reduced_rdd = ngrams_rdd.map(lambda x: (x, 1)).reduceByKey(lambda v1, v2: v1 + v2)\n",
    "    tupled_rdd = reduced_rdd.map(lambda x: (x[1], x[0]))\n",
    "    count_rdds.append(rdd)\n",
    "    \n",
    "count_rdds"
   ]
  },
  {
   "cell_type": "code",
   "execution_count": null,
   "id": "36bf9e7e",
   "metadata": {},
   "outputs": [],
   "source": [
    "merged_rdd = count_rdds[0].union(count_rdds[1])\n",
    "dna_patterns = merged_rdd.sortByKey(ascending=False).map(lambda x: f\"{x[1]} {x[0]}\")"
   ]
  },
  {
   "cell_type": "code",
   "execution_count": null,
   "id": "a99f2af6",
   "metadata": {},
   "outputs": [],
   "source": [
    "dna_patterns.take(10)"
   ]
  },
  {
   "cell_type": "code",
   "execution_count": null,
   "id": "45af66d4",
   "metadata": {},
   "outputs": [],
   "source": [
    "# Split each string into two columns (ngram and count) using space as the delimiter\n",
    "split_rdd = dna_patterns.map(lambda line: line.split())\n",
    "\n",
    "# Create a DataFrame from the RDD with column names\n",
    "columns = [\"pattern\", \"count\"]\n",
    "df = spark2.createDataFrame(split_rdd, columns)\n",
    "split_rdd"
   ]
  },
  {
   "cell_type": "code",
   "execution_count": null,
   "id": "c49aa35b",
   "metadata": {},
   "outputs": [],
   "source": [
    "df.show(10)"
   ]
  },
  {
   "cell_type": "markdown",
   "id": "429e5be9",
   "metadata": {},
   "source": [
    "\n",
    "<div align=\"right\" dir=\"auto\">\n",
    "   \n",
    "# تابع تعریف شده توسط کاربر(UDF)\n",
    "\n",
    "یکی از مزایای اسپارک این است که نه تنها برای ما یک زبان SQL فراهم کرده که روی چندین سرور به صورت همزمان پردازش را انجام دهد بلکه \n",
    "    میتوان به زبان‌های مختلف توابعی تعریف کرد که روی  همه executor ها اجرا شود   در این بخش از شما انتظار می‌رود که با نوشتن یک UDF به زبان پایتونی    توضیحات  قسمت  قبل را انجام دهید.\n",
    "\n",
    " </div>\n",
    " \n",
    "[pyspark.sql.functions.udf](https://spark.apache.org/docs/3.1.3/api/python/reference/api/pyspark.sql.functions.udf.html)\n",
    "\n",
    "[pyspark.sql.DataFrame.withColumn](https://spark.apache.org/docs/3.1.3/api/python/reference/api/pyspark.sql.DataFrame.withColumn.html)\n",
    "\n",
    "    \n",
    "\n"
   ]
  },
  {
   "cell_type": "code",
   "execution_count": null,
   "id": "257f89d8",
   "metadata": {},
   "outputs": [],
   "source": [
    "def split_string(line):\n",
    "    parts = line.split()  # Splitting assuming space as delimiter\n",
    "    return parts[0], int(parts[1]) if len(parts) > 1 else None"
   ]
  },
  {
   "cell_type": "code",
   "execution_count": null,
   "id": "5616558b",
   "metadata": {},
   "outputs": [],
   "source": [
    "from pyspark.sql.functions import col\n",
    "from pyspark.sql.functions import udf\n",
    "\n",
    "# Define the UDF to split the string into two columns\n",
    "# to-do\n",
    "split_string_udf = udf(lambda z: split_string(z)[0]) \n",
    "\n",
    "# Apply the UDF to create separate columns\n",
    "# to-do\n",
    "df = spark.createDataFrame(dna_patterns, StringType())\n",
    "schema = StructType([\n",
    "    StructField(\"Gene Count\", StringType(), True)\n",
    "])\n",
    "df = spark.createDataFrame(df.rdd, schema)\n",
    "df_with_split = df.select(split_string_udf(col(\"Gene Count\")).alias(\"ngram\"))\n",
    "\n",
    "# Show the resulting DataFrame\n",
    "# to-do\n",
    "df_with_split.show(10)"
   ]
  }
 ],
 "metadata": {
  "kernelspec": {
   "display_name": "Python 3 (ipykernel)",
   "language": "python",
   "name": "python3"
  },
  "language_info": {
   "codemirror_mode": {
    "name": "ipython",
    "version": 3
   },
   "file_extension": ".py",
   "mimetype": "text/x-python",
   "name": "python",
   "nbconvert_exporter": "python",
   "pygments_lexer": "ipython3",
   "version": "3.8.10"
  }
 },
 "nbformat": 4,
 "nbformat_minor": 5
}
